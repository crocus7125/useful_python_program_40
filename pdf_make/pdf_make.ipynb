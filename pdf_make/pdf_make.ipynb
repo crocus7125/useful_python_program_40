{
 "cells": [
  {
   "cell_type": "code",
   "execution_count": 1,
   "metadata": {},
   "outputs": [
    {
     "name": "stdout",
     "output_type": "stream",
     "text": [
      "Collecting comtypes\n",
      "  Downloading comtypes-1.4.11-py3-none-any.whl.metadata (7.2 kB)\n",
      "Downloading comtypes-1.4.11-py3-none-any.whl (246 kB)\n",
      "Installing collected packages: comtypes\n",
      "Successfully installed comtypes-1.4.11\n"
     ]
    },
    {
     "name": "stderr",
     "output_type": "stream",
     "text": [
      "\n",
      "[notice] A new release of pip is available: 24.3.1 -> 25.1.1\n",
      "[notice] To update, run: python.exe -m pip install --upgrade pip\n"
     ]
    }
   ],
   "source": [
    "%pip install comtypes"
   ]
  },
  {
   "cell_type": "code",
   "execution_count": 2,
   "metadata": {},
   "outputs": [],
   "source": [
    "import comtypes.client\n",
    "import os\n",
    "\n",
    "def ppt_to_pdf(input_path, output_path=None):\n",
    "    if not os.path.exists(input_path):\n",
    "        raise FileNotFoundError(f\"입력 파일이 존재하지 않습니다: {input_path}\")\n",
    "    \n",
    "    if output_path is None:\n",
    "        output_path = os.path.splitext(input_path)[0] + \".pdf\"\n",
    "\n",
    "    powerpoint = comtypes.client.CreateObject(\"Powerpoint.Application\")\n",
    "    powerpoint.Visible = 1\n",
    "\n",
    "    presentation = powerpoint.Presentations.Open(input_path, WithWindow=False)\n",
    "    presentation.SaveAs(output_path, FileFormat=32)  # 32 = PDF\n",
    "    presentation.Close()\n",
    "    powerpoint.Quit()\n",
    "\n",
    "    print(f\"PDF로 저장 완료: {output_path}\")"
   ]
  },
  {
   "cell_type": "code",
   "execution_count": 5,
   "metadata": {},
   "outputs": [
    {
     "name": "stdout",
     "output_type": "stream",
     "text": [
      "PDF로 저장 완료: D:\\RAIS_v1.1.pdf\n"
     ]
    }
   ],
   "source": [
    "input_path = r\"D:\\RAIS_v1.1.pptx\"\n",
    "output_path = r\"D:\\RAIS_v1.1.pdf\"\n",
    "ppt_to_pdf(input_path, output_path)"
   ]
  },
  {
   "cell_type": "code",
   "execution_count": null,
   "metadata": {},
   "outputs": [],
   "source": []
  }
 ],
 "metadata": {
  "kernelspec": {
   "display_name": "Python 3",
   "language": "python",
   "name": "python3"
  },
  "language_info": {
   "codemirror_mode": {
    "name": "ipython",
    "version": 3
   },
   "file_extension": ".py",
   "mimetype": "text/x-python",
   "name": "python",
   "nbconvert_exporter": "python",
   "pygments_lexer": "ipython3",
   "version": "3.13.2"
  }
 },
 "nbformat": 4,
 "nbformat_minor": 2
}
